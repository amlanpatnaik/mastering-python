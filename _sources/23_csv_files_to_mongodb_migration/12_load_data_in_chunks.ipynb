{
 "cells": [
  {
   "cell_type": "markdown",
   "id": "6aac930c-bda2-47e8-b0ec-783d86e5713f",
   "metadata": {},
   "source": [
    "## Load Data in Chunks\n",
    "\n",
    "Let us understand the overall process of loading CSV data to MongoDB with attribute level mapping in chunks.\n",
    "* Read data from file into a Pandas Dataframe.\n",
    "* Drop the fields that are not required and rename the fields as per the target structure defined.\n",
    "* Load the data to MongoDB using Bulk load. We can also load the data in chunks.\n",
    "* While loading the data to target database table, it might be better to load the data in chunks. For example, if we have 10,000 records to be loaded, it is a good practice to load in smaller chunks. The chunk size will be determined considering several factors.\n",
    "* For this demo, we will be loading 6 records at a time rather than loading all the 20 records in one shot."
   ]
  },
  {
   "cell_type": "code",
   "execution_count": 1,
   "id": "8ea61064-bbef-4766-82e6-2ea47d7a87ab",
   "metadata": {},
   "outputs": [],
   "source": [
    "import pandas as pd\n",
    "customers = pd.read_csv('/data/ecomm/customers/part-00000')"
   ]
  },
  {
   "cell_type": "code",
   "execution_count": 2,
   "id": "b49e39be-ab1b-4ddc-81a2-d8b1b1e215f6",
   "metadata": {},
   "outputs": [],
   "source": [
    "column_mapping_str = '''{\n",
    "    \"customer_first_name\": {\"target_field_name\": \"FirstName\", \"is_required\": true},\n",
    "    \"customer_last_name\": {\"target_field_name\": \"LastName\", \"is_required\": true},\n",
    "    \"customer_email\": {\"target_field_name\": \"Email\", \"is_required\": true},\n",
    "    \"product_name\": {\"is_required\": false},\n",
    "    \"product_subscription\": {\"is_required\": false}\n",
    "}'''\n",
    "\n",
    "import json\n",
    "column_mapping = json.loads(column_mapping_str)\n",
    "\n",
    "# Assigning the list of not required fields to a variable\n",
    "columns_to_be_dropped = dict(list(filter(lambda col: not col[1]['is_required'], column_mapping.items()))).keys()\n",
    "required_columns_list = list(filter(lambda col: col[1]['is_required'], column_mapping.items()))\n",
    "required_columns_mapping = dict(map(lambda col: (col[0], col[1]['target_field_name']), required_columns_list))\n",
    "\n",
    "# This will take care of dropping the not required fields and rename others as per mapping\n",
    "customers_target = customers.drop(columns=columns_to_be_dropped).rename(columns=required_columns_mapping)"
   ]
  },
  {
   "cell_type": "code",
   "execution_count": 3,
   "id": "007ffb0a-12e9-40cb-8bb3-669200a3c997",
   "metadata": {},
   "outputs": [],
   "source": [
    "import pymongo, getpass, configparser\n",
    "\n",
    "username = getpass.getuser()\n",
    "config = configparser.ConfigParser()\n",
    "config.read(f'/home/{username}/.jupyterenv')\n",
    "\n",
    "client = pymongo.MongoClient(\n",
    "    host='pylabsmd.itversity.com', \n",
    "    username=f'{username}_scratch_user', \n",
    "    password=config['DEFAULT']['MONGO_SCRATCH_PASS'], \n",
    "    authSource='admin'\n",
    ")"
   ]
  },
  {
   "cell_type": "code",
   "execution_count": 4,
   "id": "c6ac4e11-0fee-4d5e-b86c-00ffbaac74f2",
   "metadata": {},
   "outputs": [
    {
     "data": {
      "text/plain": [
       "<pymongo.results.DeleteResult at 0x7f90376bf820>"
      ]
     },
     "execution_count": 4,
     "metadata": {},
     "output_type": "execute_result"
    }
   ],
   "source": [
    "client[f'{username}_scratch_db']['customers'].delete_many({})"
   ]
  },
  {
   "cell_type": "code",
   "execution_count": 5,
   "id": "ec2d5cbf-b8f5-4e98-bf4c-bd73b23415b9",
   "metadata": {},
   "outputs": [],
   "source": [
    "for doc in client[f'{username}_scratch_db']['customers'].find({}):\n",
    "    print(doc)"
   ]
  },
  {
   "cell_type": "code",
   "execution_count": 6,
   "id": "ea188fb5-ca7f-4262-bd18-7b7ab9e8580e",
   "metadata": {},
   "outputs": [
    {
     "data": {
      "text/plain": [
       "\u001b[0;31mSignature:\u001b[0m \u001b[0mcustomers_target\u001b[0m\u001b[0;34m.\u001b[0m\u001b[0mto_dict\u001b[0m\u001b[0;34m(\u001b[0m\u001b[0morient\u001b[0m\u001b[0;34m=\u001b[0m\u001b[0;34m'dict'\u001b[0m\u001b[0;34m,\u001b[0m \u001b[0minto\u001b[0m\u001b[0;34m=\u001b[0m\u001b[0;34m<\u001b[0m\u001b[0;32mclass\u001b[0m \u001b[0;34m'dict'\u001b[0m\u001b[0;34m>\u001b[0m\u001b[0;34m)\u001b[0m\u001b[0;34m\u001b[0m\u001b[0;34m\u001b[0m\u001b[0m\n",
       "\u001b[0;31mDocstring:\u001b[0m\n",
       "Convert the DataFrame to a dictionary.\n",
       "\n",
       "The type of the key-value pairs can be customized with the parameters\n",
       "(see below).\n",
       "\n",
       "Parameters\n",
       "----------\n",
       "orient : str {'dict', 'list', 'series', 'split', 'records', 'index'}\n",
       "    Determines the type of the values of the dictionary.\n",
       "\n",
       "    - 'dict' (default) : dict like {column -> {index -> value}}\n",
       "    - 'list' : dict like {column -> [values]}\n",
       "    - 'series' : dict like {column -> Series(values)}\n",
       "    - 'split' : dict like\n",
       "      {'index' -> [index], 'columns' -> [columns], 'data' -> [values]}\n",
       "    - 'records' : list like\n",
       "      [{column -> value}, ... , {column -> value}]\n",
       "    - 'index' : dict like {index -> {column -> value}}\n",
       "\n",
       "    Abbreviations are allowed. `s` indicates `series` and `sp`\n",
       "    indicates `split`.\n",
       "\n",
       "into : class, default dict\n",
       "    The collections.abc.Mapping subclass used for all Mappings\n",
       "    in the return value.  Can be the actual class or an empty\n",
       "    instance of the mapping type you want.  If you want a\n",
       "    collections.defaultdict, you must pass it initialized.\n",
       "\n",
       "Returns\n",
       "-------\n",
       "dict, list or collections.abc.Mapping\n",
       "    Return a collections.abc.Mapping object representing the DataFrame.\n",
       "    The resulting transformation depends on the `orient` parameter.\n",
       "\n",
       "See Also\n",
       "--------\n",
       "DataFrame.from_dict: Create a DataFrame from a dictionary.\n",
       "DataFrame.to_json: Convert a DataFrame to JSON format.\n",
       "\n",
       "Examples\n",
       "--------\n",
       ">>> df = pd.DataFrame({'col1': [1, 2],\n",
       "...                    'col2': [0.5, 0.75]},\n",
       "...                   index=['row1', 'row2'])\n",
       ">>> df\n",
       "      col1  col2\n",
       "row1     1  0.50\n",
       "row2     2  0.75\n",
       ">>> df.to_dict()\n",
       "{'col1': {'row1': 1, 'row2': 2}, 'col2': {'row1': 0.5, 'row2': 0.75}}\n",
       "\n",
       "You can specify the return orientation.\n",
       "\n",
       ">>> df.to_dict('series')\n",
       "{'col1': row1    1\n",
       "         row2    2\n",
       "Name: col1, dtype: int64,\n",
       "'col2': row1    0.50\n",
       "        row2    0.75\n",
       "Name: col2, dtype: float64}\n",
       "\n",
       ">>> df.to_dict('split')\n",
       "{'index': ['row1', 'row2'], 'columns': ['col1', 'col2'],\n",
       " 'data': [[1, 0.5], [2, 0.75]]}\n",
       "\n",
       ">>> df.to_dict('records')\n",
       "[{'col1': 1, 'col2': 0.5}, {'col1': 2, 'col2': 0.75}]\n",
       "\n",
       ">>> df.to_dict('index')\n",
       "{'row1': {'col1': 1, 'col2': 0.5}, 'row2': {'col1': 2, 'col2': 0.75}}\n",
       "\n",
       "You can also specify the mapping type.\n",
       "\n",
       ">>> from collections import OrderedDict, defaultdict\n",
       ">>> df.to_dict(into=OrderedDict)\n",
       "OrderedDict([('col1', OrderedDict([('row1', 1), ('row2', 2)])),\n",
       "             ('col2', OrderedDict([('row1', 0.5), ('row2', 0.75)]))])\n",
       "\n",
       "If you want a `defaultdict`, you need to initialize it:\n",
       "\n",
       ">>> dd = defaultdict(list)\n",
       ">>> df.to_dict('records', into=dd)\n",
       "[defaultdict(<class 'list'>, {'col1': 1, 'col2': 0.5}),\n",
       " defaultdict(<class 'list'>, {'col1': 2, 'col2': 0.75})]\n",
       "\u001b[0;31mFile:\u001b[0m      /opt/anaconda3/envs/beakerx/lib/python3.7/site-packages/pandas/core/frame.py\n",
       "\u001b[0;31mType:\u001b[0m      method\n"
      ]
     },
     "metadata": {},
     "output_type": "display_data"
    }
   ],
   "source": [
    "customers_target.to_dict?"
   ]
  },
  {
   "cell_type": "code",
   "execution_count": 8,
   "id": "3d5a6004-4b3f-41f8-88e5-4f137687473c",
   "metadata": {},
   "outputs": [],
   "source": [
    "customers_list = customers_target.to_dict(orient='records')"
   ]
  },
  {
   "cell_type": "code",
   "execution_count": 10,
   "id": "61161400-ce34-453c-aacf-3862eebaf25f",
   "metadata": {},
   "outputs": [
    {
     "data": {
      "text/plain": [
       "20"
      ]
     },
     "execution_count": 10,
     "metadata": {},
     "output_type": "execute_result"
    }
   ],
   "source": [
    "len(customers_list)"
   ]
  },
  {
   "cell_type": "code",
   "execution_count": 18,
   "id": "24fc4bec-ba04-4fe6-9be6-8adad03edf9e",
   "metadata": {},
   "outputs": [],
   "source": [
    "customers_list_range = list(range(0, len(customers_list), 6))"
   ]
  },
  {
   "cell_type": "code",
   "execution_count": 19,
   "id": "2cf01215-c22d-4fb7-97a3-399510765c1d",
   "metadata": {},
   "outputs": [
    {
     "data": {
      "text/plain": [
       "[0, 6, 12]"
      ]
     },
     "execution_count": 19,
     "metadata": {},
     "output_type": "execute_result"
    }
   ],
   "source": [
    "customers_list_range[:-1]"
   ]
  },
  {
   "cell_type": "code",
   "execution_count": 20,
   "id": "3f52037c-5b8b-4ca6-b7bd-a49fca09af71",
   "metadata": {},
   "outputs": [
    {
     "data": {
      "text/plain": [
       "[6, 12, 18]"
      ]
     },
     "execution_count": 20,
     "metadata": {},
     "output_type": "execute_result"
    }
   ],
   "source": [
    "customers_list_range[1:]"
   ]
  },
  {
   "cell_type": "code",
   "execution_count": 22,
   "id": "f90b1385-9b65-4bd5-b139-cab326ed0ffd",
   "metadata": {},
   "outputs": [
    {
     "data": {
      "text/plain": [
       "[(0, 6), (6, 12), (12, 18)]"
      ]
     },
     "execution_count": 22,
     "metadata": {},
     "output_type": "execute_result"
    }
   ],
   "source": [
    "list(zip(customers_list_range[:-1], customers_list_range[1:]))"
   ]
  },
  {
   "cell_type": "code",
   "execution_count": 23,
   "id": "2db3bc4d-4823-4ff8-95ad-ef59b7a51f77",
   "metadata": {},
   "outputs": [],
   "source": [
    "chunks = list(zip(customers_list_range[:-1], customers_list_range[1:]))"
   ]
  },
  {
   "cell_type": "code",
   "execution_count": 24,
   "id": "51da798b-0dab-40b8-8a2c-8571c32c7215",
   "metadata": {},
   "outputs": [
    {
     "name": "stdout",
     "output_type": "stream",
     "text": [
      "Processing from 0 to 6\n",
      "[{'FirstName': 'Cassaundra', 'LastName': 'Collinson', 'Email': 'ccollinson0@alibaba.com'}, {'FirstName': 'Rozamond', 'LastName': 'Oene', 'Email': 'roene1@technorati.com'}, {'FirstName': 'Gus', 'LastName': 'Hawick', 'Email': 'ghawick2@dagondesign.com'}, {'FirstName': 'Delano', 'LastName': 'Ashbey', 'Email': 'dashbey3@purevolume.com'}, {'FirstName': 'Fara', 'LastName': 'Simondson', 'Email': 'fsimondson4@umn.edu'}, {'FirstName': 'Myrilla', 'LastName': 'Gates', 'Email': 'mgates5@sina.com.cn'}]\n",
      "Processing from 6 to 12\n",
      "[{'FirstName': 'Arabela', 'LastName': 'Tweedlie', 'Email': 'atweedlie6@comcast.net'}, {'FirstName': 'Loise', 'LastName': 'Schindler', 'Email': 'lschindler7@discovery.com'}, {'FirstName': 'Storm', 'LastName': 'McBrearty', 'Email': 'smcbrearty8@ovh.net'}, {'FirstName': 'Westley', 'LastName': 'Matityahu', 'Email': 'wmatityahu9@altervista.org'}, {'FirstName': 'Gerta', 'LastName': 'Shaughnessy', 'Email': 'gshaughnessya@smugmug.com'}, {'FirstName': 'Coretta', 'LastName': 'Shave', 'Email': 'cshaveb@toplist.cz'}]\n",
      "Processing from 12 to 18\n",
      "[{'FirstName': 'Barn', 'LastName': 'Henkmann', 'Email': 'bhenkmannc@people.com.cn'}, {'FirstName': 'Sammy', 'LastName': 'Desaur', 'Email': 'sdesaurd@edublogs.org'}, {'FirstName': 'Joaquin', 'LastName': 'Skym', 'Email': 'jskyme@storify.com'}, {'FirstName': 'Regen', 'LastName': 'Levitt', 'Email': 'rlevittf@pbs.org'}, {'FirstName': 'Maryjane', 'LastName': 'Ledley', 'Email': 'mledleyg@weather.com'}, {'FirstName': 'Tiffanie', 'LastName': 'Dilliway', 'Email': 'tdilliwayh@statcounter.com'}]\n",
      "Processing last set from 18 to 20\n",
      "[{'FirstName': 'Phineas', 'LastName': 'Rimmington', 'Email': 'primmingtoni@phpbb.com'}, {'FirstName': 'Cinderella', 'LastName': 'Bordiss', 'Email': 'cbordissj@answers.com'}]\n"
     ]
    }
   ],
   "source": [
    "for lb, ub in chunks:\n",
    "    print(f'Processing from {lb} to {ub}')\n",
    "    print(customers_list[lb:ub])\n",
    "\n",
    "print(f'Processing last set from {ub} to {len(customers_list)}')\n",
    "print(customers_list[ub:])"
   ]
  },
  {
   "cell_type": "code",
   "execution_count": 25,
   "id": "ec71221e-c6d4-41e6-abf6-b0d1a4299d8c",
   "metadata": {},
   "outputs": [
    {
     "name": "stdout",
     "output_type": "stream",
     "text": [
      "Processing from 0 to 6\n",
      "Processing from 6 to 12\n",
      "Processing from 12 to 18\n",
      "Processing last set from 18 to 20\n"
     ]
    },
    {
     "data": {
      "text/plain": [
       "<pymongo.results.InsertManyResult at 0x7f9035d83780>"
      ]
     },
     "execution_count": 25,
     "metadata": {},
     "output_type": "execute_result"
    }
   ],
   "source": [
    "for lb, ub in chunks:\n",
    "    print(f'Processing from {lb} to {ub}')\n",
    "    client[f'{username}_scratch_db']['customers'].insert_many(customers_list[lb:ub])\n",
    "\n",
    "print(f'Processing last set from {ub} to {len(customers_list)}')\n",
    "client[f'{username}_scratch_db']['customers'].insert_many(customers_list[ub:])"
   ]
  },
  {
   "cell_type": "code",
   "execution_count": 26,
   "id": "9cb855fa-cd74-4d3a-ae41-b1414a692f88",
   "metadata": {},
   "outputs": [
    {
     "name": "stdout",
     "output_type": "stream",
     "text": [
      "{'_id': ObjectId('60b65e5e8852136200229daa'), 'FirstName': 'Cassaundra', 'LastName': 'Collinson', 'Email': 'ccollinson0@alibaba.com'}\n",
      "{'_id': ObjectId('60b65e5e8852136200229dab'), 'FirstName': 'Rozamond', 'LastName': 'Oene', 'Email': 'roene1@technorati.com'}\n",
      "{'_id': ObjectId('60b65e5e8852136200229dac'), 'FirstName': 'Gus', 'LastName': 'Hawick', 'Email': 'ghawick2@dagondesign.com'}\n",
      "{'_id': ObjectId('60b65e5e8852136200229dad'), 'FirstName': 'Delano', 'LastName': 'Ashbey', 'Email': 'dashbey3@purevolume.com'}\n",
      "{'_id': ObjectId('60b65e5e8852136200229dae'), 'FirstName': 'Fara', 'LastName': 'Simondson', 'Email': 'fsimondson4@umn.edu'}\n",
      "{'_id': ObjectId('60b65e5e8852136200229daf'), 'FirstName': 'Myrilla', 'LastName': 'Gates', 'Email': 'mgates5@sina.com.cn'}\n",
      "{'_id': ObjectId('60b65e5e8852136200229db0'), 'FirstName': 'Arabela', 'LastName': 'Tweedlie', 'Email': 'atweedlie6@comcast.net'}\n",
      "{'_id': ObjectId('60b65e5e8852136200229db1'), 'FirstName': 'Loise', 'LastName': 'Schindler', 'Email': 'lschindler7@discovery.com'}\n",
      "{'_id': ObjectId('60b65e5e8852136200229db2'), 'FirstName': 'Storm', 'LastName': 'McBrearty', 'Email': 'smcbrearty8@ovh.net'}\n",
      "{'_id': ObjectId('60b65e5e8852136200229db3'), 'FirstName': 'Westley', 'LastName': 'Matityahu', 'Email': 'wmatityahu9@altervista.org'}\n",
      "{'_id': ObjectId('60b65e5e8852136200229db4'), 'FirstName': 'Gerta', 'LastName': 'Shaughnessy', 'Email': 'gshaughnessya@smugmug.com'}\n",
      "{'_id': ObjectId('60b65e5e8852136200229db5'), 'FirstName': 'Coretta', 'LastName': 'Shave', 'Email': 'cshaveb@toplist.cz'}\n",
      "{'_id': ObjectId('60b65e5e8852136200229db6'), 'FirstName': 'Barn', 'LastName': 'Henkmann', 'Email': 'bhenkmannc@people.com.cn'}\n",
      "{'_id': ObjectId('60b65e5e8852136200229db7'), 'FirstName': 'Sammy', 'LastName': 'Desaur', 'Email': 'sdesaurd@edublogs.org'}\n",
      "{'_id': ObjectId('60b65e5e8852136200229db8'), 'FirstName': 'Joaquin', 'LastName': 'Skym', 'Email': 'jskyme@storify.com'}\n",
      "{'_id': ObjectId('60b65e5e8852136200229db9'), 'FirstName': 'Regen', 'LastName': 'Levitt', 'Email': 'rlevittf@pbs.org'}\n",
      "{'_id': ObjectId('60b65e5e8852136200229dba'), 'FirstName': 'Maryjane', 'LastName': 'Ledley', 'Email': 'mledleyg@weather.com'}\n",
      "{'_id': ObjectId('60b65e5e8852136200229dbb'), 'FirstName': 'Tiffanie', 'LastName': 'Dilliway', 'Email': 'tdilliwayh@statcounter.com'}\n",
      "{'_id': ObjectId('60b65e5e8852136200229dbc'), 'FirstName': 'Phineas', 'LastName': 'Rimmington', 'Email': 'primmingtoni@phpbb.com'}\n",
      "{'_id': ObjectId('60b65e5e8852136200229dbd'), 'FirstName': 'Cinderella', 'LastName': 'Bordiss', 'Email': 'cbordissj@answers.com'}\n"
     ]
    }
   ],
   "source": [
    "for doc in client[f'{username}_scratch_db']['customers'].find({}):\n",
    "    print(doc)"
   ]
  },
  {
   "cell_type": "code",
   "execution_count": 27,
   "id": "eadef7dd-b2b7-4304-ac97-2ee9c8c0616d",
   "metadata": {},
   "outputs": [
    {
     "data": {
      "text/plain": [
       "20"
      ]
     },
     "execution_count": 27,
     "metadata": {},
     "output_type": "execute_result"
    }
   ],
   "source": [
    "client[f'{username}_scratch_db']['customers'].count_documents({})"
   ]
  },
  {
   "cell_type": "code",
   "execution_count": null,
   "id": "6bf4a3db-37a4-4d3c-9cf1-d0d2a9366d75",
   "metadata": {},
   "outputs": [],
   "source": []
  }
 ],
 "metadata": {
  "kernelspec": {
   "display_name": "Python 3",
   "language": "python",
   "name": "python3"
  },
  "language_info": {
   "codemirror_mode": {
    "name": "ipython",
    "version": 3
   },
   "file_extension": ".py",
   "mimetype": "text/x-python",
   "name": "python",
   "nbconvert_exporter": "python",
   "pygments_lexer": "ipython3",
   "version": "3.7.10"
  }
 },
 "nbformat": 4,
 "nbformat_minor": 5
}
