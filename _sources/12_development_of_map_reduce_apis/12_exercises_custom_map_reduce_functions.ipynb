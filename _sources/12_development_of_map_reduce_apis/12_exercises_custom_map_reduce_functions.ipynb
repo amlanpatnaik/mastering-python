{
 "cells": [
  {
   "cell_type": "markdown",
   "metadata": {},
   "source": [
    "## Exercises - Custom Map Reduce Functions\n",
    "Here are the same exercises which you have solved before. Try to solve these using mapReduce APIs.\n",
    "* We will provide you a python script which will have all the above map reduce APIs. Use it as package and solve the below mentioned problems.\n",
    "* Create a file with name mymapreduce.py\n",
    "* Import and use it from mymapreduce import *."
   ]
  },
  {
   "cell_type": "code",
   "execution_count": null,
   "metadata": {},
   "outputs": [],
   "source": [
    "def myFilter(c, f):\n",
    "    c_f = []\n",
    "    for e in c:\n",
    "        if(f(e)):\n",
    "            c_f.append(e)\n",
    "    return c_f\n",
    "\n",
    "def myMap(c, f):\n",
    "    c_f = []\n",
    "    for e in c:\n",
    "        c_f.append(f(e))\n",
    "    return c_f\n",
    "\n",
    "def myReduce(c, f):\n",
    "    t = c[0]\n",
    "    for e in c[1:]:\n",
    "        t = f(t, e)\n",
    "    return t\n",
    "\n",
    "def myReduceByKey(p, f):\n",
    "    p_f = {}\n",
    "    for e in p:\n",
    "        if(e[0] in p_f):\n",
    "            p_f[e[0]] = f(p_f[e[0]], e[1])\n",
    "        else:\n",
    "            p_f[e[0]] = e[1]\n",
    "    return list(p_f.items())\n",
    "\n",
    "def myJoin(c1, c2):\n",
    "    c1_dict = dict(c1) # dict with first element as key and second element as value\n",
    "    results = [] # Initializing empty list\n",
    "    for c2_item in c2: \n",
    "        if c2_item[0] in c1_dict:\n",
    "            results.append((c2_item[0], (c1_dict[c2_item[0]], c2_item[1])))\n",
    "    return results"
   ]
  },
  {
   "cell_type": "markdown",
   "metadata": {},
   "source": [
    "* Get number of COMPLETE orders placed by each customer\n",
    "* Get total number of PENDING or PENDING_PAYMENT orders for the month of 2014 January.\n",
    "* Get outstanding amount for each month considering orders with status PAYMENT_REVIEW, PENDING, PENDING_PAYMENT and PROCESSING."
   ]
  }
 ],
 "metadata": {
  "kernelspec": {
   "display_name": "Python 3",
   "language": "python",
   "name": "python3"
  },
  "language_info": {
   "codemirror_mode": {
    "name": "ipython",
    "version": 3
   },
   "file_extension": ".py",
   "mimetype": "text/x-python",
   "name": "python",
   "nbconvert_exporter": "python",
   "pygments_lexer": "ipython3",
   "version": "3.6.12"
  }
 },
 "nbformat": 4,
 "nbformat_minor": 4
}
