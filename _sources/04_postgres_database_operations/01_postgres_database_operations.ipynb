{
 "cells": [
  {
   "cell_type": "markdown",
   "metadata": {
    "pycharm": {
     "name": "#%% md\n"
    }
   },
   "source": [
    "# Perform Database Operations\n",
    "\n",
    "As part of this module we will perform basic database operations in Postgres. This is just to get started and advanced concepts will be covered as part of other courses.\n",
    "* Overview of SQL\n",
    "* Create Database and Users Table\n",
    "* DDL – Data Definition Language\n",
    "* DML – Data Manipulation Language\n",
    "* DQL – Data Query Language\n",
    "* CRUD Operations – DML and DQL\n",
    "* TCL – Transaction Control Language\n",
    "* Example - Data Engineering\n",
    "* Example - Web Application\n",
    "* Exercise - Database Operations"
   ]
  }
 ],
 "metadata": {
  "kernelspec": {
   "display_name": "Python 3",
   "language": "python",
   "name": "python3"
  },
  "language_info": {
   "codemirror_mode": {
    "name": "ipython",
    "version": 3
   },
   "file_extension": ".py",
   "mimetype": "text/x-python",
   "name": "python",
   "nbconvert_exporter": "python",
   "pygments_lexer": "ipython3",
   "version": "3.8.5"
  }
 },
 "nbformat": 4,
 "nbformat_minor": 4
}
