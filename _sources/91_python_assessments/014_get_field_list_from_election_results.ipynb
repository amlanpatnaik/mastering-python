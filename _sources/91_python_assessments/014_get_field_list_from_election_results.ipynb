{
 "cells": [
  {
   "cell_type": "markdown",
   "id": "2ae683bd-5cd8-46b1-a527-b825474b0cee",
   "metadata": {},
   "source": [
    "## Get field list from election results\n",
    "\n",
    "Develop a function to get the list of fields from tab delimited data.\n",
    "* This is primarily to assess the ability to read the delimited data and get metadata from it.\n",
    "* Use file I/O and collection libraries for this exercise.\n",
    "* Read the data from `/data/electionresults/ls2014.tsv`.\n",
    "* The first line in the file have the attribute names.\n",
    "* You need to read first line and then convert it to list of field names."
   ]
  },
  {
   "cell_type": "code",
   "execution_count": null,
   "id": "59e4d730-29c2-4350-9564-99c9bbff0448",
   "metadata": {},
   "outputs": [],
   "source": [
    "# Your code should go here\n",
    "\n",
    "def get_field_names(file_name):\n",
    "    # logic should go here\n",
    "    return field_list"
   ]
  },
  {
   "cell_type": "code",
   "execution_count": null,
   "id": "ed08b2e1-4a15-4f2f-8b88-862fc09681db",
   "metadata": {},
   "outputs": [],
   "source": [
    "get_field_names('/data/electionresults/ls2014.tsv')"
   ]
  },
  {
   "cell_type": "markdown",
   "id": "73dea3e7-3abf-4dc4-b2a2-1c4407ef50de",
   "metadata": {},
   "source": [
    "* Here is the expected output.\n",
    "\n",
    "```python\n",
    "['state',\n",
    " 'constituency',\n",
    " 'candidate_name',\n",
    " 'sex',\n",
    " 'age',\n",
    " 'category',\n",
    " 'partyname',\n",
    " 'partysymbol',\n",
    " 'general',\n",
    " 'postal',\n",
    " 'total',\n",
    " 'pct_of_total_votes',\n",
    " 'pct_of_polled_votes',\n",
    " 'totalvoters']\n",
    "```"
   ]
  },
  {
   "cell_type": "code",
   "execution_count": null,
   "id": "ed9bb729-3514-4c05-adc0-89edf04121d3",
   "metadata": {},
   "outputs": [],
   "source": []
  }
 ],
 "metadata": {
  "kernelspec": {
   "display_name": "Python 3",
   "language": "python",
   "name": "python3"
  },
  "language_info": {
   "codemirror_mode": {
    "name": "ipython",
    "version": 3
   },
   "file_extension": ".py",
   "mimetype": "text/x-python",
   "name": "python",
   "nbconvert_exporter": "python",
   "pygments_lexer": "ipython3",
   "version": "3.7.10"
  }
 },
 "nbformat": 4,
 "nbformat_minor": 5
}
