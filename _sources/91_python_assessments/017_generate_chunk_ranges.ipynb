{
 "cells": [
  {
   "cell_type": "markdown",
   "id": "b932f92e-86e7-42d4-b008-3f91073ec40a",
   "metadata": {},
   "source": [
    "## Generate Chunk Ranges\n",
    "\n",
    "Develop a function to generate chunk ranges from a list. This is primarily to assess the understanding of using functions on top of list effectively.\n",
    "* Quite often, we might get a list of dicts or objects which have to be written into the database in batches.\n",
    "* For example, we might have read data from file into list and the list might have 10,000 records. However we might want to write 200 records at a time in batch and commit.\n",
    "* The function should take a list as an argument and it should return the chunk ranges as list based upon the chunk size."
   ]
  },
  {
   "cell_type": "code",
   "execution_count": 16,
   "id": "b89faef1-a6f8-45ce-b31e-9e5c970547e9",
   "metadata": {},
   "outputs": [],
   "source": [
    "# Your code should go here\n",
    "\n",
    "def get_chunk_ranges(data_list, chunk_size=4):\n",
    "    return chunk_ranges"
   ]
  },
  {
   "cell_type": "markdown",
   "id": "77d94187-eebe-4298-8b20-7cf26c516d32",
   "metadata": {},
   "source": [
    "* You can validate by using below cell.\n",
    "* Here is the expected output.\n",
    "```python\n",
    "[(0, 4), (4, 8), (8, 9)]\n",
    "```"
   ]
  },
  {
   "cell_type": "code",
   "execution_count": 17,
   "id": "425b4949-f882-41dd-8e67-6bfd8f5e57ec",
   "metadata": {},
   "outputs": [
    {
     "data": {
      "text/plain": [
       "[(0, 4), (4, 8), (8, 9)]"
      ]
     },
     "execution_count": 17,
     "metadata": {},
     "output_type": "execute_result"
    }
   ],
   "source": [
    "get_chunk_ranges([1, 2, 3, 4, 5, 6, 7, 8, 9])"
   ]
  },
  {
   "cell_type": "code",
   "execution_count": null,
   "id": "d3869e5a-cc57-45eb-b2b2-a0d52e647519",
   "metadata": {},
   "outputs": [],
   "source": []
  }
 ],
 "metadata": {
  "kernelspec": {
   "display_name": "Python 3",
   "language": "python",
   "name": "python3"
  },
  "language_info": {
   "codemirror_mode": {
    "name": "ipython",
    "version": 3
   },
   "file_extension": ".py",
   "mimetype": "text/x-python",
   "name": "python",
   "nbconvert_exporter": "python",
   "pygments_lexer": "ipython3",
   "version": "3.7.10"
  }
 },
 "nbformat": 4,
 "nbformat_minor": 5
}
