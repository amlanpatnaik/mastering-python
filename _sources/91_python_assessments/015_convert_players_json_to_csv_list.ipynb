{
 "cells": [
  {
   "cell_type": "markdown",
   "id": "51fa14fe-35e1-4540-ad88-e8a4bff4ca3d",
   "metadata": {},
   "source": [
    "## Convert Players JSON to CSV List\n",
    "\n",
    "Develop a function which will convert the contents of a JSON file into list of CSV elements.\n",
    "* This exercise is primarily to test the abilities to read the data from file, process json using **json** module and also manipulate collections.\n",
    "* First understand how the data is structured.\n",
    "* Develp the function which takes the string as argument. We will pass the path of the json file with famous players to it.\n",
    "* Read the json data from **/data/sports/famous_players.json**\n",
    "* Sort the data by country and then by name.\n",
    "* The function should return the sorted list.\n",
    "* You should use **json** module to process data. Do not use **pandas** for this problem."
   ]
  },
  {
   "cell_type": "markdown",
   "id": "a353f6be-adf5-4038-8690-bc178a31b805",
   "metadata": {},
   "source": [
    "* Run this command to confirm whether file exists or not."
   ]
  },
  {
   "cell_type": "code",
   "execution_count": null,
   "id": "a6242942-9376-4295-87d8-3eaba0a55130",
   "metadata": {},
   "outputs": [],
   "source": [
    "!ls -ltr /data/sports/famous_players.json"
   ]
  },
  {
   "cell_type": "markdown",
   "id": "12767216-cb29-42ba-bd8e-426629923ac0",
   "metadata": {},
   "source": [
    "* Run this command to preview the data."
   ]
  },
  {
   "cell_type": "code",
   "execution_count": null,
   "id": "006e3910-06ee-47ea-b9e1-2a13877bef4f",
   "metadata": {},
   "outputs": [],
   "source": [
    "!cat /data/sports/famous_players.json"
   ]
  },
  {
   "cell_type": "markdown",
   "id": "c07469b8-c68f-44d1-896e-a31c4248ff41",
   "metadata": {},
   "source": [
    "* Develop the function using the below cell."
   ]
  },
  {
   "cell_type": "code",
   "execution_count": null,
   "id": "0a51d2aa-b391-4682-b203-42187c29c769",
   "metadata": {},
   "outputs": [],
   "source": [
    "# Your solution should go here\n",
    "import json\n",
    "def get_players_csv_list(file_path):\n",
    "    # Develop the logic here\n",
    "    return players_csv_list"
   ]
  },
  {
   "cell_type": "markdown",
   "id": "5d79ed12-bfab-41c3-84e4-87714e0c1d8c",
   "metadata": {},
   "source": [
    "* You can run the below cell to validate the function"
   ]
  },
  {
   "cell_type": "code",
   "execution_count": null,
   "id": "c0bd58ab-8ac4-4f07-8dd2-513414a20cb5",
   "metadata": {},
   "outputs": [],
   "source": [
    "for player in get_players_csv_list('/data/sports/famous_players.json'):\n",
    "    print(player)"
   ]
  },
  {
   "cell_type": "markdown",
   "id": "60ca638a-cb4f-459e-a923-6633ac41e969",
   "metadata": {},
   "source": [
    "* Here is the expected output.\n",
    "\n",
    "```\n",
    "Diego Maradona,Argentina,Soccer\n",
    "Ian Thorpe,Australia,Swimming\n",
    "Shane Warne,Australia,Cricket\n",
    "Ronaldo,Brazil,Soccer\n",
    "David Beckham,England,Cricket\n",
    "P. V. Sindhu,India,Badminton\n",
    "Sachin Tendulkar,India,Cricket\n",
    "Usain Bolt,Jamaica,Running\n",
    "Roger Federer,Switzerland,Tennis\n",
    "Michael Phelps,USA,Swimming\n",
    "Pete Sampras,USA,Tennis\n",
    "Brian Lara,West Indies,Cricket\n",
    "```"
   ]
  },
  {
   "cell_type": "code",
   "execution_count": null,
   "id": "d325b7ea-e72a-436e-a90f-8482f2187eb9",
   "metadata": {},
   "outputs": [],
   "source": []
  }
 ],
 "metadata": {
  "kernelspec": {
   "display_name": "Python 3",
   "language": "python",
   "name": "python3"
  },
  "language_info": {
   "codemirror_mode": {
    "name": "ipython",
    "version": 3
   },
   "file_extension": ".py",
   "mimetype": "text/x-python",
   "name": "python",
   "nbconvert_exporter": "python",
   "pygments_lexer": "ipython3",
   "version": "3.7.10"
  }
 },
 "nbformat": 4,
 "nbformat_minor": 5
}
