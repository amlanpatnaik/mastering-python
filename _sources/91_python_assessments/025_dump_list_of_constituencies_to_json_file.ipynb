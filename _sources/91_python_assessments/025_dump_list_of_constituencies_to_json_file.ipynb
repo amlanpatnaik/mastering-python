{
 "cells": [
  {
   "cell_type": "markdown",
   "id": "2ae683bd-5cd8-46b1-a527-b825474b0cee",
   "metadata": {},
   "source": [
    "## Dump list of constituencies to JSON File\n",
    "\n",
    "Develop a function to dump list of constituencies from election results to JSON File using Pandas.\n",
    "* This is primarily to assess the ability to read the delimited data and convert into different format.\n",
    "* This is helpful in reading CSV data, convert to dict and then write to databases such as MongoDB.\n",
    "* Solve this problem using **Pandas** library.\n",
    "* Read the data from `/data/electionresults/ls2014.tsv`.\n",
    "* Write the data to `/home/${USER}/output/electionresults/constituencies.json`\n",
    "* The first line in the file have the attribute names.\n",
    "* Use Pandas to read the data with field names, get distinct constituencies (state name and constituency) and then write to JSON file.\n",
    "* The output should be sorted in ascending order by state and then by constituency.\n",
    "* The file should contain one JSON document per line. Here is example.\n",
    "\n",
    "```json\n",
    "{'state': 'Andaman & Nicobar Islands', 'constituency': 'Andaman & Nicobar Islands'}\n",
    "{'state': 'Andhra Pradesh', 'constituency': 'Adilabad'}\n",
    "```"
   ]
  },
  {
   "cell_type": "markdown",
   "id": "6f486807-b24d-4c13-9ff7-5fc2e1530464",
   "metadata": {},
   "source": [
    "* Confirm whether file exists."
   ]
  },
  {
   "cell_type": "code",
   "execution_count": null,
   "id": "eabd9e51-cf5a-46d0-a5b4-baa35670b92f",
   "metadata": {},
   "outputs": [],
   "source": [
    "!ls -ltr /data/electionresults/ls2014.tsv"
   ]
  },
  {
   "cell_type": "markdown",
   "id": "27292bdc-7b2c-44bc-a694-19dd6c57a17e",
   "metadata": {},
   "source": [
    "* Get first five lines of the file to understand how the data look like. You can understand details about field names."
   ]
  },
  {
   "cell_type": "code",
   "execution_count": null,
   "id": "e882b21b-db66-4913-a69e-c58b8e145f76",
   "metadata": {},
   "outputs": [],
   "source": [
    "!head -5 /data/electionresults/ls2014.tsv"
   ]
  },
  {
   "cell_type": "markdown",
   "id": "ad8c3247-2e04-4c9f-8f98-90bd34895e0c",
   "metadata": {},
   "source": [
    "* Get the count of unique constituencies. It will be useful for us to validate the number of elements in list of dicts."
   ]
  },
  {
   "cell_type": "code",
   "execution_count": null,
   "id": "11db1408-ec95-4f26-a8c5-84c5f868e920",
   "metadata": {},
   "outputs": [],
   "source": [
    "!awk -F\"\\t\" '{ print $1 \":\" $2}' /data/electionresults/ls2014.tsv|grep -wv \"constituency\"|sort|uniq|wc -l"
   ]
  },
  {
   "cell_type": "code",
   "execution_count": null,
   "id": "59e4d730-29c2-4350-9564-99c9bbff0448",
   "metadata": {},
   "outputs": [],
   "source": [
    "# Your code should go here\n",
    "import pandas as pd\n",
    "def save_unique_constituencies(input_file_name, output_file_name):\n",
    "    # logic should go here\n",
    "\n",
    "    return"
   ]
  },
  {
   "cell_type": "code",
   "execution_count": null,
   "id": "a05b89f1-2f7f-469d-af5e-d918af98a99a",
   "metadata": {},
   "outputs": [],
   "source": [
    "!mkdir -p /home/${USER}/output/electionresults"
   ]
  },
  {
   "cell_type": "code",
   "execution_count": null,
   "id": "ed08b2e1-4a15-4f2f-8b88-862fc09681db",
   "metadata": {},
   "outputs": [],
   "source": [
    "import getpass\n",
    "username = getpass.getuser()\n",
    "\n",
    "input_file_name = '/data/electionresults/ls2014.tsv'\n",
    "output_file_name = f'/home/{username}/output/electionresults/constituencies.json'\n",
    "save_unique_constituencies(input_file_name, output_file_name)"
   ]
  },
  {
   "cell_type": "markdown",
   "id": "e6b54c5d-a831-4d97-b473-b2778857a66d",
   "metadata": {},
   "source": [
    "* Validation - Check if the file is created or not"
   ]
  },
  {
   "cell_type": "code",
   "execution_count": null,
   "id": "981e074c-1733-41fc-a439-e3f20ee9df6d",
   "metadata": {},
   "outputs": [],
   "source": [
    "!ls -ltr /home/${USER}/output/electionresults # You should see the constituencies.json file as part of the output"
   ]
  },
  {
   "cell_type": "markdown",
   "id": "d5bd8770-9fb3-46db-856a-87a88ca39eb5",
   "metadata": {},
   "source": [
    "* Validation - Get first five records using head command\n",
    "* Expected output\n",
    "\n",
    "```json\n",
    "{\"state\":\"Andaman & Nicobar Islands\",\"constituency\":\"Andaman & Nicobar Islands\"}\n",
    "{\"state\":\"Andhra Pradesh\",\"constituency\":\"Adilabad \"}\n",
    "{\"state\":\"Andhra Pradesh\",\"constituency\":\"Amalapuram \"}\n",
    "{\"state\":\"Andhra Pradesh\",\"constituency\":\"Anakapalli\"}\n",
    "{\"state\":\"Andhra Pradesh\",\"constituency\":\"Anantapur\"}\n",
    "```"
   ]
  },
  {
   "cell_type": "code",
   "execution_count": null,
   "id": "aad2ebe5-0fa0-473f-9837-c66931f82c94",
   "metadata": {},
   "outputs": [],
   "source": [
    "!head -5 /home/${USER}/output/electionresults/constituencies.json"
   ]
  },
  {
   "cell_type": "markdown",
   "id": "29b5a930-2b3a-41ca-8b2d-8977c7454a75",
   "metadata": {},
   "source": [
    "* You can also run this code to validate. Here is the expected output.\n",
    "\n",
    "```python\n",
    "{'state': 'Andaman & Nicobar Islands', 'constituency': 'Andaman & Nicobar Islands'}\n",
    "{'state': 'Andhra Pradesh', 'constituency': 'Adilabad '}\n",
    "{'state': 'Andhra Pradesh', 'constituency': 'Amalapuram '}\n",
    "{'state': 'Andhra Pradesh', 'constituency': 'Anakapalli'}\n",
    "{'state': 'Andhra Pradesh', 'constituency': 'Anantapur'}\n",
    "```"
   ]
  },
  {
   "cell_type": "code",
   "execution_count": null,
   "id": "f10bc853-856c-48c1-bfc9-d9e5f2975873",
   "metadata": {},
   "outputs": [],
   "source": [
    "import json, getpass\n",
    "\n",
    "username = getpass.getuser()\n",
    "data = open(f'/home/{username}/output/electionresults/constituencies.json').read().splitlines()\n",
    "\n",
    "for rec in data[:5]:\n",
    "    print(json.loads(rec))"
   ]
  },
  {
   "cell_type": "code",
   "execution_count": null,
   "id": "8ad17cf0-7876-4770-ab1b-d1483cd2e2db",
   "metadata": {},
   "outputs": [],
   "source": []
  }
 ],
 "metadata": {
  "kernelspec": {
   "display_name": "Python 3",
   "language": "python",
   "name": "python3"
  },
  "language_info": {
   "codemirror_mode": {
    "name": "ipython",
    "version": 3
   },
   "file_extension": ".py",
   "mimetype": "text/x-python",
   "name": "python",
   "nbconvert_exporter": "python",
   "pygments_lexer": "ipython3",
   "version": "3.7.10"
  }
 },
 "nbformat": 4,
 "nbformat_minor": 5
}
