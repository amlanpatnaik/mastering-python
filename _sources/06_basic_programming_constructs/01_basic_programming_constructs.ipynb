{
 "cells": [
  {
   "cell_type": "markdown",
   "metadata": {},
   "source": [
    "# Basic Programming Constructs\n",
    "\n",
    "\n",
    "As part of this section we will see basic programming constructs in Python.\n",
    "\n",
    "* Getting Help\n",
    "* Variables and Objects\n",
    "* Data Types - Commonly used\n",
    "* Operators in Python\n",
    "* Comments and Doc Strings\n",
    "* Conditionals\n",
    "* All about for loops\n",
    "* Running OS Commands"
   ]
  },
  {
   "cell_type": "code",
   "execution_count": 2,
   "metadata": {},
   "outputs": [],
   "source": [
    "import IPython"
   ]
  },
  {
   "cell_type": "code",
   "execution_count": 3,
   "metadata": {},
   "outputs": [
    {
     "data": {
      "text/plain": [
       "\u001b[0;31mType:\u001b[0m        module\n",
       "\u001b[0;31mString form:\u001b[0m <module 'IPython' from '/opt/anaconda3/envs/beakerx/lib/python3.6/site-packages/IPython/__init__.py'>\n",
       "\u001b[0;31mFile:\u001b[0m        /opt/anaconda3/envs/beakerx/lib/python3.6/site-packages/IPython/__init__.py\n",
       "\u001b[0;31mDocstring:\u001b[0m  \n",
       "IPython: tools for interactive and parallel computing in Python.\n",
       "\n",
       "https://ipython.org\n"
      ]
     },
     "metadata": {},
     "output_type": "display_data"
    }
   ],
   "source": [
    "IPython?"
   ]
  },
  {
   "cell_type": "code",
   "execution_count": 4,
   "metadata": {},
   "outputs": [
    {
     "data": {
      "text/plain": [
       "\u001b[0;31mType:\u001b[0m        module\n",
       "\u001b[0;31mString form:\u001b[0m <module 'IPython.display' from '/opt/anaconda3/envs/beakerx/lib/python3.6/site-packages/IPython/display.py'>\n",
       "\u001b[0;31mFile:\u001b[0m        /opt/anaconda3/envs/beakerx/lib/python3.6/site-packages/IPython/display.py\n",
       "\u001b[0;31mDocstring:\u001b[0m   Public API for display tools in IPython.\n"
      ]
     },
     "metadata": {},
     "output_type": "display_data"
    }
   ],
   "source": [
    "IPython.display?"
   ]
  },
  {
   "cell_type": "code",
   "execution_count": 6,
   "metadata": {},
   "outputs": [],
   "source": [
    "IPython.display.display_html('<h1>Hello World</h1>')"
   ]
  },
  {
   "cell_type": "code",
   "execution_count": 9,
   "metadata": {},
   "outputs": [
    {
     "data": {
      "text/html": [
       "<a href=\"http://example.com\">link</a>"
      ],
      "text/plain": [
       "<IPython.core.display.HTML object>"
      ]
     },
     "metadata": {},
     "output_type": "display_data"
    }
   ],
   "source": [
    "from IPython.core.display import HTML\n",
    "display(HTML('<a href=\"http://example.com\">link</a>'))"
   ]
  },
  {
   "cell_type": "code",
   "execution_count": 13,
   "metadata": {},
   "outputs": [
    {
     "data": {
      "text/html": [
       "\n",
       "<div id='discourse-comments'></div>\n",
       "\n",
       "<script type=\"text/javascript\">\n",
       "  DiscourseEmbed = { discourseUrl: 'http://discuss.itversity.com/',\n",
       "                     discourseEmbedUrl: 'https://python.itversity.com/06_basic_programming_constructs/01_basic_programming_constructs.html' };\n",
       "\n",
       "  (function() {\n",
       "    var d = document.createElement('script'); d.type = 'text/javascript'; d.async = true;\n",
       "    d.src = DiscourseEmbed.discourseUrl + 'javascripts/embed.js';\n",
       "    (document.getElementsByTagName('head')[0] || document.getElementsByTagName('body')[0]).appendChild(d);\n",
       "  })();\n",
       "</script>\n"
      ],
      "text/plain": [
       "<IPython.core.display.HTML object>"
      ]
     },
     "metadata": {},
     "output_type": "display_data"
    }
   ],
   "source": [
    "%%HTML\n",
    "\n",
    "<div id='discourse-comments'></div>\n",
    "\n",
    "<script type=\"text/javascript\">\n",
    "  DiscourseEmbed = { discourseUrl: 'http://discuss.itversity.com/',\n",
    "                     discourseEmbedUrl: 'https://python.itversity.com/06_basic_programming_constructs/01_basic_programming_constructs.html' };\n",
    "\n",
    "  (function() {\n",
    "    var d = document.createElement('script'); d.type = 'text/javascript'; d.async = true;\n",
    "    d.src = DiscourseEmbed.discourseUrl + 'javascripts/embed.js';\n",
    "    (document.getElementsByTagName('head')[0] || document.getElementsByTagName('body')[0]).appendChild(d);\n",
    "  })();\n",
    "</script>"
   ]
  },
  {
   "cell_type": "code",
   "execution_count": null,
   "metadata": {},
   "outputs": [],
   "source": []
  }
 ],
 "metadata": {
  "kernelspec": {
   "display_name": "Python 3",
   "language": "python",
   "name": "python3"
  },
  "language_info": {
   "codemirror_mode": {
    "name": "ipython",
    "version": 3
   },
   "file_extension": ".py",
   "mimetype": "text/x-python",
   "name": "python",
   "nbconvert_exporter": "python",
   "pygments_lexer": "ipython3",
   "version": "3.6.12"
  }
 },
 "nbformat": 4,
 "nbformat_minor": 4
}
