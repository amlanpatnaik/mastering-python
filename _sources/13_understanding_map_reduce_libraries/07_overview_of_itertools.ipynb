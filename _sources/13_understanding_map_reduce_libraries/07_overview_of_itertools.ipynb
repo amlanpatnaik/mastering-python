{
 "cells": [
  {
   "cell_type": "markdown",
   "metadata": {},
   "source": [
    "## Overview of itertools\n",
    "\n",
    "Let us go through one of the important library to manipulate collections called as `itertools`.\n",
    "* Functions such as `filter` and `map` are part of core Python libraries.\n",
    "* `reduce` is part of `functools`.\n",
    "* It is not possible to use these functions to perform advanced operations such as grouped aggregations, joins etc.\n",
    "* Python have several higher level libraries which provide required functionality to perform advanced aggregations such as grouped aggregations, joins etc. `itertools` is one of the popular library to manipulate collections."
   ]
  },
  {
   "cell_type": "code",
   "execution_count": 1,
   "metadata": {},
   "outputs": [],
   "source": [
    "import itertools"
   ]
  },
  {
   "cell_type": "code",
   "execution_count": 3,
   "metadata": {},
   "outputs": [
    {
     "data": {
      "text/plain": [
       "\u001b[0;31mType:\u001b[0m        module\n",
       "\u001b[0;31mString form:\u001b[0m <module 'itertools' (built-in)>\n",
       "\u001b[0;31mDocstring:\u001b[0m  \n",
       "Functional tools for creating and using iterators.\n",
       "\n",
       "Infinite iterators:\n",
       "count(start=0, step=1) --> start, start+step, start+2*step, ...\n",
       "cycle(p) --> p0, p1, ... plast, p0, p1, ...\n",
       "repeat(elem [,n]) --> elem, elem, elem, ... endlessly or up to n times\n",
       "\n",
       "Iterators terminating on the shortest input sequence:\n",
       "accumulate(p[, func]) --> p0, p0+p1, p0+p1+p2\n",
       "chain(p, q, ...) --> p0, p1, ... plast, q0, q1, ... \n",
       "chain.from_iterable([p, q, ...]) --> p0, p1, ... plast, q0, q1, ... \n",
       "compress(data, selectors) --> (d[0] if s[0]), (d[1] if s[1]), ...\n",
       "dropwhile(pred, seq) --> seq[n], seq[n+1], starting when pred fails\n",
       "groupby(iterable[, keyfunc]) --> sub-iterators grouped by value of keyfunc(v)\n",
       "filterfalse(pred, seq) --> elements of seq where pred(elem) is False\n",
       "islice(seq, [start,] stop [, step]) --> elements from\n",
       "       seq[start:stop:step]\n",
       "starmap(fun, seq) --> fun(*seq[0]), fun(*seq[1]), ...\n",
       "tee(it, n=2) --> (it1, it2 , ... itn) splits one iterator into n\n",
       "takewhile(pred, seq) --> seq[0], seq[1], until pred fails\n",
       "zip_longest(p, q, ...) --> (p[0], q[0]), (p[1], q[1]), ... \n",
       "\n",
       "Combinatoric generators:\n",
       "product(p, q, ... [repeat=1]) --> cartesian product\n",
       "permutations(p[, r])\n",
       "combinations(p, r)\n",
       "combinations_with_replacement(p, r)\n"
      ]
     },
     "metadata": {},
     "output_type": "display_data"
    }
   ],
   "source": [
    "itertools?"
   ]
  },
  {
   "cell_type": "markdown",
   "metadata": {},
   "source": [
    "### Task 1\n",
    "\n",
    "Get cumulative sales from list of transactions."
   ]
  },
  {
   "cell_type": "code",
   "execution_count": 11,
   "metadata": {},
   "outputs": [],
   "source": [
    "ns = [1, 2, 3, 4]"
   ]
  },
  {
   "cell_type": "code",
   "execution_count": 12,
   "metadata": {},
   "outputs": [],
   "source": [
    "import itertools as iter"
   ]
  },
  {
   "cell_type": "code",
   "execution_count": 13,
   "metadata": {},
   "outputs": [
    {
     "data": {
      "text/plain": [
       "\u001b[0;31mInit signature:\u001b[0m \u001b[0miter\u001b[0m\u001b[0;34m.\u001b[0m\u001b[0maccumulate\u001b[0m\u001b[0;34m(\u001b[0m\u001b[0mself\u001b[0m\u001b[0;34m,\u001b[0m \u001b[0;34m/\u001b[0m\u001b[0;34m,\u001b[0m \u001b[0;34m*\u001b[0m\u001b[0margs\u001b[0m\u001b[0;34m,\u001b[0m \u001b[0;34m**\u001b[0m\u001b[0mkwargs\u001b[0m\u001b[0;34m)\u001b[0m\u001b[0;34m\u001b[0m\u001b[0;34m\u001b[0m\u001b[0m\n",
       "\u001b[0;31mDocstring:\u001b[0m     \n",
       "accumulate(iterable[, func]) --> accumulate object\n",
       "\n",
       "Return series of accumulated sums (or other binary function results).\n",
       "\u001b[0;31mType:\u001b[0m           type\n",
       "\u001b[0;31mSubclasses:\u001b[0m     \n"
      ]
     },
     "metadata": {},
     "output_type": "display_data"
    }
   ],
   "source": [
    "iter.accumulate?"
   ]
  },
  {
   "cell_type": "code",
   "execution_count": 15,
   "metadata": {},
   "outputs": [
    {
     "data": {
      "text/plain": [
       "[1, 3, 6, 10]"
      ]
     },
     "execution_count": 15,
     "metadata": {},
     "output_type": "execute_result"
    }
   ],
   "source": [
    "list(iter.accumulate(ns))[:10]"
   ]
  },
  {
   "cell_type": "code",
   "execution_count": 16,
   "metadata": {},
   "outputs": [
    {
     "data": {
      "text/plain": [
       "[1, 2, 6, 24]"
      ]
     },
     "execution_count": 16,
     "metadata": {},
     "output_type": "execute_result"
    }
   ],
   "source": [
    "import operator as o\n",
    "list(iter.accumulate(ns, o.mul))[:10]"
   ]
  },
  {
   "cell_type": "code",
   "execution_count": null,
   "metadata": {},
   "outputs": [],
   "source": []
  }
 ],
 "metadata": {
  "kernelspec": {
   "display_name": "Python 3",
   "language": "python",
   "name": "python3"
  },
  "language_info": {
   "codemirror_mode": {
    "name": "ipython",
    "version": 3
   },
   "file_extension": ".py",
   "mimetype": "text/x-python",
   "name": "python",
   "nbconvert_exporter": "python",
   "pygments_lexer": "ipython3",
   "version": "3.6.12"
  }
 },
 "nbformat": 4,
 "nbformat_minor": 4
}
