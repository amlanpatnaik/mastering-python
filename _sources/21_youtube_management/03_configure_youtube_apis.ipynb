{
 "cells": [
  {
   "cell_type": "code",
   "execution_count": null,
   "metadata": {},
   "outputs": [],
   "source": [
    "auth_code = None"
   ]
  },
  {
   "cell_type": "code",
   "execution_count": null,
   "metadata": {},
   "outputs": [],
   "source": [
    "#OAuth2 for YouTube Data v3 API\n",
    "\n",
    "def get_auth_code(credentials_path, auth_code):\n",
    "    if not auth_code:\n",
    "        from google_auth_oauthlib.flow import InstalledAppFlow\n",
    "\n",
    "        CLIENT_SECRET_FILE = credentials_path\n",
    "        SCOPES = ['https://www.googleapis.com/auth/youtube']\n",
    "\n",
    "        Flow = InstalledAppFlow.from_client_secrets_file(CLIENT_SECRET_FILE, SCOPES)\n",
    "\n",
    "        auth_code = Flow.run_console()\n",
    "    \n",
    "    return auth_code"
   ]
  },
  {
   "cell_type": "code",
   "execution_count": null,
   "metadata": {},
   "outputs": [],
   "source": [
    "def build_youtube(auth_code):\n",
    "    from apiclient.discovery import build\n",
    "    return build('youtube','v3', credentials=auth_code)"
   ]
  },
  {
   "cell_type": "code",
   "execution_count": null,
   "metadata": {},
   "outputs": [],
   "source": [
    "if not auth_code:\n",
    "    auth_code = get_auth_code('client_secret_da.json', auth_code)"
   ]
  },
  {
   "cell_type": "code",
   "execution_count": null,
   "metadata": {},
   "outputs": [],
   "source": [
    "youtube = build_youtube(auth_code)"
   ]
  },
  {
   "cell_type": "code",
   "execution_count": null,
   "metadata": {},
   "outputs": [],
   "source": [
    "channel_id = 'UCakdSIPsJqiOLqylgoYmwQg'"
   ]
  }
 ],
 "metadata": {
  "kernelspec": {
   "display_name": "Python 3",
   "language": "python",
   "name": "python3"
  },
  "language_info": {
   "codemirror_mode": {
    "name": "ipython",
    "version": 3
   },
   "file_extension": ".py",
   "mimetype": "text/x-python",
   "name": "python",
   "nbconvert_exporter": "python",
   "pygments_lexer": "ipython3",
   "version": "3.6.12"
  }
 },
 "nbformat": 4,
 "nbformat_minor": 4
}
