{
 "cells": [
  {
   "cell_type": "markdown",
   "metadata": {},
   "source": [
    "## Connect to SQL Workbench - Postgres\n",
    "\n",
    "Let us connect to Postgres Database using SQL Workbench.\n",
    "\n",
    "* We are trying to connect to Postgres Database that is running as part of Docker container running in a Ubuntu 18.04 VM provisioned from GCP.\n",
    "* We have published Postgres database port to port 5433 on Ubuntu 18.04 VM.\n",
    "* We typically use ODBC or JDBC to connect to a Database from remote machines (our PC).\n",
    "* Here are the pre-requisites to connect to a Database on GCP.\n",
    "  * Make sure 5433 port is opened as part of the firewalls.\n",
    "  * If you have telnet configured on your system on which SQL Workbench is installed, make sure to validate by running telnet command using ip or DNS Alias and port number 5433.\n",
    "  * Ensure that you have downloaded right JDBC Driver for Postgres.\n",
    "  * Make sure to have right credentials (username and password).\n",
    "  * Ensure that you have database created on which the user have permissions.\n",
    "* You can validate credentials and permissions to the database by installing postgres client on Ubuntu 18.04 VM and then by connecting to the database using the credentials.\n",
    "* Once you have all the information required along with JDBC jar, ensure to save the information as part of the profile. You can also validate before saving the details by using **Test** option."
   ]
  }
 ],
 "metadata": {
  "kernelspec": {
   "display_name": "Python 3",
   "language": "python",
   "name": "python3"
  },
  "language_info": {
   "codemirror_mode": {
    "name": "ipython",
    "version": 3
   },
   "file_extension": ".py",
   "mimetype": "text/x-python",
   "name": "python",
   "nbconvert_exporter": "python",
   "pygments_lexer": "ipython3",
   "version": "3.8.5"
  }
 },
 "nbformat": 4,
 "nbformat_minor": 4
}
