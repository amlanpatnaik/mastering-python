{
 "cells": [
  {
   "cell_type": "markdown",
   "metadata": {
    "pycharm": {
     "name": "#%% md\n"
    }
   },
   "source": [
    "# Setup Postgres Database on Ubuntu VM\n",
    "\n",
    "Let us understand how to setup Postgres on Ubuntu VM. We will use Docker to set it up.\n",
    "\n",
    "* Setup Postgres using Docker\n",
    "* Accessing Postgres using Docker CLI\n",
    "* Create Database and User\n",
    "* Executing SQL Scripts\n",
    "* Setup SQL Workbench\n",
    "* Connect to SQL Workbench - Postgres\n",
    "* SQL Workbench Features\n",
    "* Troubleshooting Issues"
   ]
  }
 ],
 "metadata": {
  "kernelspec": {
   "display_name": "Python 3",
   "language": "python",
   "name": "python3"
  },
  "language_info": {
   "codemirror_mode": {
    "name": "ipython",
    "version": 3
   },
   "file_extension": ".py",
   "mimetype": "text/x-python",
   "name": "python",
   "nbconvert_exporter": "python",
   "pygments_lexer": "ipython3",
   "version": "3.8.5"
  }
 },
 "nbformat": 4,
 "nbformat_minor": 4
}
