{
 "cells": [
  {
   "cell_type": "markdown",
   "metadata": {},
   "source": [
    "## Accessing Postgres using Docker CLI\n",
    "\n",
    "As the container is created, let us understand how to connect to Postgres Database using Docker CLI.\n",
    "\n",
    "* We can use `docker container exec` or `docker exec` to connect to the container.\n",
    "* You can attach to the container by running `bash` using `docker exec`.\n",
    "* Also you can run single commands with out attaching the container - example: `docker exec -it sms_pg hostname -f`\n",
    "\n",
    "> You have to use terminal to run these commands\n",
    "\n",
    "* Attach to sms_db container - `docker exec -it sms_pg bash`\n",
    "* Run command to get hostname - `hostname -f`\n",
    "* Run command to connect to Postgres Database - `psql -U postgres`\n",
    "* You can also directly connect to Postgres Database using\n",
    "```\n",
    "docker exec -it sms_pg psql -U postgres\n",
    "```\n",
    "* Use `\\q` to come out of the Postgres CLI."
   ]
  }
 ],
 "metadata": {
  "kernelspec": {
   "display_name": "Python 3",
   "language": "python",
   "name": "python3"
  },
  "language_info": {
   "codemirror_mode": {
    "name": "ipython",
    "version": 3
   },
   "file_extension": ".py",
   "mimetype": "text/x-python",
   "name": "python",
   "nbconvert_exporter": "python",
   "pygments_lexer": "ipython3",
   "version": "3.8.5"
  }
 },
 "nbformat": 4,
 "nbformat_minor": 4
}
