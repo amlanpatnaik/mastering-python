{
 "cells": [
  {
   "cell_type": "markdown",
   "metadata": {
    "pycharm": {
     "name": "#%% md\n"
    }
   },
   "source": [
    "## Executing SQL Scripts\n",
    "\n",
    "Let us understand how to execute SQL Scripts using psql. We will be creating new database and then running the script which is downloaded from GitHub..\n",
    "\n",
    "* Copy the script to sms_pg container.\n",
    "* Make sure database is created.\n",
    "* Run the script to create tables and insert data.\n",
    "* Validate that tables are created and data is inserted.\n",
    "\n",
    "**Clone Repository**\n",
    "\n",
    "```\n",
    "# Make sure you are in the home directory in the host (not in the container)\n",
    "cd # to be in home directory\n",
    "git clone https://www.github.com/dgadiraju/retail_db.git\n",
    "```\n",
    "\n",
    "**Copy Script and Validate**\n",
    "\n",
    "```\n",
    "docker container cp retail_db sms_pg:/\n",
    "\n",
    "docker exec -it sms_pg ls -ltr /retail_db\n",
    "\n",
    "docker exec -it sms_pg psql -U postgres\n",
    "```\n",
    "\n",
    "**Create Database and User for retail_db**\n",
    "\n",
    "```\n",
    "docker exec -it sms_pg psql -U postgres\n",
    "\n",
    "CREATE DATABASE retail_db;\n",
    "CREATE USER retail_user WITH ENCRYPTED PASSWORD 'retail_password';\n",
    "GRANT ALL ON DATABASE retail_db TO retail_user;\n",
    "```\n",
    "\n",
    "**Create tables and copy data**\n",
    "\n",
    "We will be running script to create tables and copy data.\n",
    "\n",
    "```\n",
    "docker exec -it sms_pg psql -U retail_user -d retail_db -W\n",
    "\n",
    "\\i /retail_db/create_db_tables_pg.sql\n",
    "\n",
    "\\i /retail_db/load_db_tables_pg.sql\n",
    "```\n",
    "\n",
    "**Validate - Run Queries**\n",
    "\n",
    "Make sure you are in right database and run these queries.\n",
    "\n",
    "```\n",
    "docker exec -it sms_pg psql -U retail_user -d retail_db -W\n",
    "\n",
    "\\d\n",
    "\n",
    "\\d orders\n",
    "\n",
    "SELECT * FROM orders LIMIT 10;\n",
    "\n",
    "SELECT count(1) FROM orders;\n",
    "```"
   ]
  }
 ],
 "metadata": {
  "kernelspec": {
   "display_name": "Python 3",
   "language": "python",
   "name": "python3"
  },
  "language_info": {
   "codemirror_mode": {
    "name": "ipython",
    "version": 3
   },
   "file_extension": ".py",
   "mimetype": "text/x-python",
   "name": "python",
   "nbconvert_exporter": "python",
   "pygments_lexer": "ipython3",
   "version": "3.8.5"
  }
 },
 "nbformat": 4,
 "nbformat_minor": 4
}
