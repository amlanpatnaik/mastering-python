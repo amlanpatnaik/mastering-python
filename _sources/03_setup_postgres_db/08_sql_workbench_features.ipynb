{
 "cells": [
  {
   "cell_type": "markdown",
   "metadata": {},
   "source": [
    "## SQL Workbench Features\n",
    "\n",
    "Here are some of the key features, you have to familiar with related to SQL Workbench.\n",
    "* Saving profiles to connect to multiple databases.\n",
    "* Develop SQL files and preserve them for future usage.\n",
    "* Access data dictionary or information schema to validate tables, columns, sequences, indexes, constraints etc.\n",
    "* Generate scripts out of existing data.\n",
    "* Ability to manage database objects with out writing any commands. We can drop tables, indexes, sequences etc by right clicking and then dropping.\n",
    "\n",
    "Almost all leading IDEs provide all these features in similar fashion.\n",
    "\n",
    "**Usage Scenarios**\n",
    "\n",
    "Here are **some of the usage scenarios** for database IDEs such as SQL Workbench as part of day to day responsibilities.\n",
    "* Developers for generating and validating data as part of unit testing.\n",
    "* Testers to validate data for their test cases.\n",
    "* Business Analysts and Data Analysts to run ad hoc queries to understand the data better.\n",
    "* Developers to troubleshoot data related production issues using read only accounts."
   ]
  }
 ],
 "metadata": {
  "kernelspec": {
   "display_name": "Python 3",
   "language": "python",
   "name": "python3"
  },
  "language_info": {
   "codemirror_mode": {
    "name": "ipython",
    "version": 3
   },
   "file_extension": ".py",
   "mimetype": "text/x-python",
   "name": "python",
   "nbconvert_exporter": "python",
   "pygments_lexer": "ipython3",
   "version": "3.8.5"
  }
 },
 "nbformat": 4,
 "nbformat_minor": 4
}
