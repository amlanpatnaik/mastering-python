{
 "cells": [
  {
   "cell_type": "markdown",
   "metadata": {},
   "source": [
    "## Setup Postgres using Docker\n",
    "As we have successfully setup Docker on our VM, let us go ahead and setup Postgres Database.\n",
    "\n",
    "Here are the steps involved in setting up Postgres Database using Docker:\n",
    "* Pull postgres image\n",
    "* Create container for postgres\n",
    "* Start the container\n",
    "* Review the logs to ensure that container is created with out any issues\n",
    "\n",
    "Here are important commands to manage images and containers:\n",
    "\n",
    "* Managing images - `docker image`\n",
    "\n",
    "|Command           |Description |\n",
    "|------------------|------------|\n",
    "|docker image pull |Pull image  |\n",
    "|docker image rm   |Remove image|\n",
    "|docker image build|Build image |\n",
    "* Managing containers - `docker container`\n",
    "\n",
    "|Command                |Description                       |\n",
    "|-----------------------|----------------------------------|\n",
    "|docker container create|Create container                  |\n",
    "|docker container start |Start container                   |\n",
    "|docker container run   |Build, Create and Start container |\n",
    "|docker container logs  |Check logs of docker container    |\n",
    "|docker container rm    |Remove stopped container          |\n",
    "|docker container rm -f |Stop and Remove running container |\n",
    "|docker container ls    |List containers                   |\n",
    "\n",
    "> For most of these commonly used commands we have alternative with out image or container as keyword in the command - for example we can say `docker rm` to remove the container and `docker rmi` to remove the image."
   ]
  },
  {
   "cell_type": "markdown",
   "metadata": {},
   "source": [
    "```\n",
    "docker pull postgres\n",
    "\n",
    "docker container create \\\n",
    "  --name sms_pg \\\n",
    "  -p 5433:5432 \\\n",
    "  -h sms_pg \\\n",
    "  -e POSTGRES_PASSWORD=itversity \\\n",
    "  postgres\n",
    "  \n",
    "docker container start sms_pg\n",
    "\n",
    "docker container logs sms_pg\n",
    "docker container logs -f sms_pg\n",
    "```"
   ]
  }
 ],
 "metadata": {
  "kernelspec": {
   "display_name": "Python 3",
   "language": "python",
   "name": "python3"
  },
  "language_info": {
   "codemirror_mode": {
    "name": "ipython",
    "version": 3
   },
   "file_extension": ".py",
   "mimetype": "text/x-python",
   "name": "python",
   "nbconvert_exporter": "python",
   "pygments_lexer": "ipython3",
   "version": "3.8.5"
  }
 },
 "nbformat": 4,
 "nbformat_minor": 4
}
