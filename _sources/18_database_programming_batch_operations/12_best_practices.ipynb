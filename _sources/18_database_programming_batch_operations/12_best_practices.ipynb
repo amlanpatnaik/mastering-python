{
 "cells": [
  {
   "cell_type": "markdown",
   "metadata": {},
   "source": [
    "## Best Practices\n",
    "\n",
    "Let us go through some best practices to perform batch load.\n",
    "* We should minimize the number of connections to database.\n",
    "* We should avoid executing queries using hard coded values. Rather, we should prefer bind variables.\n",
    "* Too much committing is bad as commit incurs overhead.\n",
    "* If we have to load considerable amount of data, we should consider committing every 1,000 records or 10,000 records or even more based up on the capacity of the database.\n",
    "* Most of the mainstream databases perform direct path I/O or batch load which might perform better compare to looping, inserting and committing data."
   ]
  },
  {
   "cell_type": "code",
   "execution_count": null,
   "metadata": {},
   "outputs": [],
   "source": [
    "import mysql.connector as mc\n",
    "from mysql.connector import errorcode as ec\n",
    "import pandas as pd\n",
    "import datetime"
   ]
  },
  {
   "cell_type": "code",
   "execution_count": null,
   "metadata": {},
   "outputs": [],
   "source": [
    "def get_connection(user, password, host, db):\n",
    "    try:\n",
    "        connection = mc.connect(user=user, \n",
    "                                password=password,\n",
    "                                host=host,\n",
    "                                database=db\n",
    "                               )\n",
    "    except mc.Error as error:\n",
    "        if error.errno == ec.ER_ACCESS_DENIED_ERROR:\n",
    "            print(\"Invalid Credentials\")\n",
    "        else:\n",
    "            print(err)\n",
    "    return connection"
   ]
  },
  {
   "cell_type": "code",
   "execution_count": null,
   "metadata": {},
   "outputs": [],
   "source": [
    "def get_cursor(connection):\n",
    "    return connection.cursor()"
   ]
  },
  {
   "cell_type": "code",
   "execution_count": null,
   "metadata": {},
   "outputs": [],
   "source": [
    "def get_orders():\n",
    "    orders_path = \"/Users/itversity/Research/data/retail_db/orders/orders.csv\"\n",
    "    orders_schema = [\n",
    "        \"order_id\",\n",
    "        \"order_date\",\n",
    "        \"order_customer_id\",\n",
    "        \"order_status\"\n",
    "    ]\n",
    "    orders = pd.read_csv(\n",
    "        orders_path,\n",
    "        header=None,\n",
    "        names=orders_schema\n",
    "    )\n",
    "    return orders"
   ]
  },
  {
   "cell_type": "code",
   "execution_count": null,
   "metadata": {},
   "outputs": [],
   "source": [
    "def load_orders(connection, cursor, query, orders):\n",
    "    for idx, order in orders.iterrows():\n",
    "        cursor.execute(query, (order.order_id, order.order_date, order.order_customer_id, order.order_status))\n",
    "        connection.commit()"
   ]
  },
  {
   "cell_type": "code",
   "execution_count": null,
   "metadata": {},
   "outputs": [],
   "source": [
    "connection = get_connection('demo_user', 'itversity', 'localhost', 'demo_db')"
   ]
  },
  {
   "cell_type": "code",
   "execution_count": null,
   "metadata": {},
   "outputs": [],
   "source": [
    "cursor = get_cursor(connection)"
   ]
  },
  {
   "cell_type": "code",
   "execution_count": null,
   "metadata": {},
   "outputs": [],
   "source": [
    "orders = get_orders()\n",
    "orders.count()"
   ]
  },
  {
   "cell_type": "code",
   "execution_count": null,
   "metadata": {},
   "outputs": [],
   "source": [
    "query = (\"\"\"INSERT INTO orders\n",
    "         (order_id, order_date, order_customer_id, order_status)\n",
    "         VALUES\n",
    "         (%s, %s, %s, %s)\"\"\")"
   ]
  },
  {
   "cell_type": "code",
   "execution_count": null,
   "metadata": {},
   "outputs": [],
   "source": [
    "%%time\n",
    "load_orders(connection, cursor, query, orders)"
   ]
  },
  {
   "cell_type": "markdown",
   "metadata": {},
   "source": [
    "* Truncate the table and reduce the frequency of the commit."
   ]
  },
  {
   "cell_type": "code",
   "execution_count": null,
   "metadata": {},
   "outputs": [],
   "source": [
    "def load_orders(connection, cursor, query, orders):\n",
    "    print(datetime.datetime.now())\n",
    "    for idx, order in orders.iterrows():\n",
    "        cursor.execute(query, (order.order_id, order.order_date, order.order_customer_id, order.order_status))\n",
    "    connection.commit()"
   ]
  },
  {
   "cell_type": "code",
   "execution_count": null,
   "metadata": {},
   "outputs": [],
   "source": [
    "connection = get_connection('demo_user', 'itversity', 'localhost', 'demo_db')"
   ]
  },
  {
   "cell_type": "code",
   "execution_count": null,
   "metadata": {},
   "outputs": [],
   "source": [
    "cursor = get_cursor(connection)"
   ]
  },
  {
   "cell_type": "code",
   "execution_count": null,
   "metadata": {},
   "outputs": [],
   "source": [
    "orders = get_orders()\n",
    "orders.count()"
   ]
  },
  {
   "cell_type": "code",
   "execution_count": null,
   "metadata": {},
   "outputs": [],
   "source": [
    "query = (\"\"\"INSERT INTO orders\n",
    "         (order_id, order_date, order_customer_id, order_status)\n",
    "         VALUES\n",
    "         (%s, %s, %s, %s)\"\"\")"
   ]
  },
  {
   "cell_type": "code",
   "execution_count": null,
   "metadata": {},
   "outputs": [],
   "source": [
    "%%time\n",
    "load_orders(connection, cursor, query, orders)"
   ]
  },
  {
   "cell_type": "markdown",
   "metadata": {},
   "source": [
    "* Committing every 1000 records using batch. Make sure to truncate table before invoking load_orders function with frequent commits.\n",
    "* In this case one insert statement will be used to insert 1000 records at a time. This is more efficient than issuing 1000 statements for 1000 records (one statement per record)"
   ]
  },
  {
   "cell_type": "code",
   "execution_count": null,
   "metadata": {},
   "outputs": [],
   "source": [
    "def load_orders(connection, cursor, query, orders):\n",
    "    print(datetime.datetime.now())\n",
    "    employees_batch = []\n",
    "    count = 1\n",
    "    for idx, order in orders.iterrows():\n",
    "        employees_batch.append(tuple(order))\n",
    "        if(count%1000 == 0):\n",
    "            cursor.executemany(query, employees_batch)\n",
    "            connection.commit()\n",
    "            employees_batch = []\n",
    "        count = count + 1\n",
    "    cursor.executemany(query, employees_batch)\n",
    "    connection.commit()"
   ]
  },
  {
   "cell_type": "code",
   "execution_count": null,
   "metadata": {},
   "outputs": [],
   "source": [
    "connection = get_connection('demo_user', 'itversity', 'localhost', 'demo_db')"
   ]
  },
  {
   "cell_type": "code",
   "execution_count": null,
   "metadata": {},
   "outputs": [],
   "source": [
    "cursor = get_cursor(connection)"
   ]
  },
  {
   "cell_type": "code",
   "execution_count": null,
   "metadata": {},
   "outputs": [],
   "source": [
    "orders = get_orders()\n",
    "orders.count()"
   ]
  },
  {
   "cell_type": "code",
   "execution_count": null,
   "metadata": {},
   "outputs": [],
   "source": [
    "query = (\"\"\"INSERT INTO orders\n",
    "         (order_id, order_date, order_customer_id, order_status)\n",
    "         VALUES\n",
    "         (%s, %s, %s, %s)\"\"\")"
   ]
  },
  {
   "cell_type": "code",
   "execution_count": null,
   "metadata": {},
   "outputs": [],
   "source": [
    "%%time\n",
    "load_orders(connection, cursor, query, orders)"
   ]
  }
 ],
 "metadata": {
  "kernelspec": {
   "display_name": "Python 3",
   "language": "python",
   "name": "python3"
  },
  "language_info": {
   "codemirror_mode": {
    "name": "ipython",
    "version": 3
   },
   "file_extension": ".py",
   "mimetype": "text/x-python",
   "name": "python",
   "nbconvert_exporter": "python",
   "pygments_lexer": "ipython3",
   "version": "3.6.12"
  }
 },
 "nbformat": 4,
 "nbformat_minor": 4
}
