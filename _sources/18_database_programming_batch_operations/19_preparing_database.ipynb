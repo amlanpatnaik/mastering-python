{
 "cells": [
  {
   "cell_type": "markdown",
   "metadata": {},
   "source": [
    "## Preparing Database\n",
    "\n",
    "Let us prepare the database in which we can create tables for running CRUD operations.\n",
    "\n",
    "* If you have access to MySQL Database, login as root or any other MySQL Admin user and run this script.\n",
    "\n",
    "```\n",
    "CREATE DATABASE demo_db;\n",
    "\n",
    "CREATE USER demo_user IDENTIFIED BY 'itversity';\n",
    "GRANT ALL ON demo_db.* TO demo_user;\n",
    "\n",
    "USE demo_db;\n",
    "CREATE TABLE orders (\n",
    "  order_id INT PRIMARY KEY,\n",
    "  order_date DATETIME,\n",
    "  order_customer_id INT,\n",
    "  order_status VARCHAR(20)\n",
    ");\n",
    "```"
   ]
  }
 ],
 "metadata": {
  "kernelspec": {
   "display_name": "Python 3",
   "language": "python",
   "name": "python3"
  },
  "language_info": {
   "codemirror_mode": {
    "name": "ipython",
    "version": 3
   },
   "file_extension": ".py",
   "mimetype": "text/x-python",
   "name": "python",
   "nbconvert_exporter": "python",
   "pygments_lexer": "ipython3",
   "version": "3.6.12"
  }
 },
 "nbformat": 4,
 "nbformat_minor": 4
}
