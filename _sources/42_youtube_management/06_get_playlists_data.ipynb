{
 "cells": [
  {
   "cell_type": "markdown",
   "metadata": {},
   "source": [
    "## Get Playlists Data\n",
    "\n",
    "Let us understand how to get YouTube Playlists Data using Python as programming language using REST APIs.\n",
    "\n",
    "Here are the steps involved in getting the data.\n",
    "* Make sure to get the token and build **youtube** object.\n",
    "* We can get list of playlists using `youtube.playlists().list` with appropriate arguments.\n",
    "* As per the table structure below we want playlist id, title, description, video count and privacy status.\n",
    "  * Playlist id, title and description comes from snippet part.\n",
    "  * Count comes from contentDetails part.\n",
    "  * Privacy Status comes from status part.\n",
    "* We need to pass all the 3 parts to part argument for `youtube.playlists().list` along with channel id.\n",
    "\n",
    "```python\n",
    "playlists = youtube.playlists().list(\n",
    "    part='snippet,contentDetails,status',\n",
    "    channelId='UCakdSIPsJqiOLqylgoYmwQg'\n",
    ").execute()\n",
    "```\n",
    "\n",
    "* YouTube APIs return at max 50 results. We need to capture nextToken and invoke `list` function to get next 50 results.\n",
    "\n",
    "```python\n",
    "nextPageToken = None\n",
    "playlist_details = []\n",
    "while True:\n",
    "    playlists = youtube.playlists().list(\n",
    "        part = 'snippet,contentDetails,status',\n",
    "        channelId='UCakdSIPsJqiOLqylgoYmwQg',\n",
    "        pageToken = nextPageToken,\n",
    "        maxResults = 50\n",
    "    ).execute()\n",
    "\n",
    "    for item in playlists['items']:\n",
    "        playlist_details.append(\n",
    "            (\n",
    "                item['id'], item['snippet']['title'], \n",
    "                item['snippet']['description'],\n",
    "                item['contentDetails']['itemCount'], \n",
    "                item['status']['privacyStatus']\n",
    "            )\n",
    "        )\n",
    "\n",
    "    nextPageToken = playlists.get('nextPageToken')\n",
    "    if not nextPageToken:\n",
    "        break\n",
    "```\n",
    "\n",
    "### Playlists Table Structure\n",
    "\n",
    "Here are the fields we have as part of playlists table.\n",
    "\n",
    "|Column Name|Data Type|\n",
    "|---|---|\n",
    "|playlist_id|VARCHAR(50)|\n",
    "|playlist_title|VARCHAR(200)|\n",
    "|playlist_description|VARCHAR(5000)|\n",
    "|playlist_video_count|INT|\n",
    "|playlist_privacy_status|VARCHAR(30)|"
   ]
  },
  {
   "cell_type": "code",
   "execution_count": null,
   "metadata": {},
   "outputs": [],
   "source": [
    "%run 03_configure_youtube_apis.ipynb    "
   ]
  },
  {
   "cell_type": "code",
   "execution_count": null,
   "metadata": {},
   "outputs": [],
   "source": [
    "youtube"
   ]
  },
  {
   "cell_type": "code",
   "execution_count": null,
   "metadata": {},
   "outputs": [],
   "source": [
    "playlists = youtube.playlists().list(\n",
    "    part='snippet,contentDetails,status',\n",
    "    channelId=channel_id\n",
    ").execute()"
   ]
  },
  {
   "cell_type": "code",
   "execution_count": null,
   "metadata": {},
   "outputs": [],
   "source": [
    "playlists['items'][0]"
   ]
  },
  {
   "cell_type": "code",
   "execution_count": null,
   "metadata": {},
   "outputs": [],
   "source": [
    "nextPageToken = None\n",
    "playlist_details = []\n",
    "while True:\n",
    "    playlists = youtube.playlists().list(\n",
    "        part = 'snippet,contentDetails,status',\n",
    "        channelId='UCakdSIPsJqiOLqylgoYmwQg',\n",
    "        pageToken = nextPageToken,\n",
    "        maxResults = 50\n",
    "    ).execute()\n",
    "\n",
    "    for item in playlists['items']:\n",
    "        playlist_details.append(\n",
    "            (\n",
    "                item['id'], item['snippet']['title'], item['snippet']['description'],\n",
    "                item['contentDetails']['itemCount'], item['status']['privacyStatus']\n",
    "            )\n",
    "        )\n",
    "\n",
    "    nextPageToken = playlists.get('nextPageToken')\n",
    "    if not nextPageToken:\n",
    "        break"
   ]
  },
  {
   "cell_type": "code",
   "execution_count": null,
   "metadata": {},
   "outputs": [],
   "source": [
    "len(playlist_details)"
   ]
  },
  {
   "cell_type": "code",
   "execution_count": null,
   "metadata": {},
   "outputs": [],
   "source": [
    "playlist_details[0]"
   ]
  },
  {
   "cell_type": "code",
   "execution_count": null,
   "metadata": {},
   "outputs": [],
   "source": [
    "def get_playlists(youtube, channel):\n",
    "    nextPageToken = None\n",
    "    playlists_details = []\n",
    "    \n",
    "    while True:\n",
    "        playlists = youtube.playlists().list(\n",
    "            part = 'snippet,contentDetails,status',\n",
    "            channelId=channel,\n",
    "            pageToken = nextPageToken,\n",
    "            maxResults = 50\n",
    "        ).execute()\n",
    "\n",
    "        for item in playlists['items']:\n",
    "            playlists_details.append(\n",
    "                (\n",
    "                    item['id'], item['snippet']['title'], item['snippet']['description'],\n",
    "                    item['contentDetails']['itemCount'], item['status']['privacyStatus']\n",
    "                )\n",
    "            )\n",
    "\n",
    "        nextPageToken = playlists.get('nextPageToken')\n",
    "        if not nextPageToken:\n",
    "            break\n",
    "\n",
    "    return playlists_details"
   ]
  },
  {
   "cell_type": "code",
   "execution_count": null,
   "metadata": {},
   "outputs": [],
   "source": [
    "def get_playlist_video_details(playlist_item):\n",
    "    snippet = playlist_item['snippet']\n",
    "    return (\n",
    "        snippet.get('playlistId'), \n",
    "        snippet['resourceId'].get('videoId'), \n",
    "        snippet.get('position'), \n",
    "        snippet.get('publishedAt')\n",
    "    )"
   ]
  },
  {
   "cell_type": "code",
   "execution_count": null,
   "metadata": {},
   "outputs": [],
   "source": [
    "def get_playlist_items(playlistId, channelId):\n",
    "    nextPageToken = None\n",
    "    video_ids = []\n",
    "    while True:\n",
    "        playlistItems = youtube.playlistItems().list(\n",
    "            part = 'snippet',\n",
    "            playlistId = playlistId,\n",
    "            pageToken = nextPageToken,\n",
    "            maxResults = 50\n",
    "        ).execute()\n",
    "        playlist_items = []\n",
    "        for item in playlistItems['items']:\n",
    "            if item['snippet']['channelId'] == channelId:\n",
    "                playlist_items.append(get_playlist_video_details(item))\n",
    "        video_ids += playlist_items\n",
    "        \n",
    "        nextPageToken = playlistItems.get('nextPageToken')\n",
    "        if not nextPageToken:\n",
    "            break\n",
    "    return video_ids"
   ]
  },
  {
   "cell_type": "code",
   "execution_count": null,
   "metadata": {},
   "outputs": [],
   "source": []
  }
 ],
 "metadata": {
  "kernelspec": {
   "display_name": "Python 3",
   "language": "python",
   "name": "python3"
  },
  "language_info": {
   "codemirror_mode": {
    "name": "ipython",
    "version": 3
   },
   "file_extension": ".py",
   "mimetype": "text/x-python",
   "name": "python",
   "nbconvert_exporter": "python",
   "pygments_lexer": "ipython3",
   "version": "3.6.12"
  }
 },
 "nbformat": 4,
 "nbformat_minor": 4
}
