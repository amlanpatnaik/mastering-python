{
 "cells": [
  {
   "cell_type": "markdown",
   "metadata": {
    "pycharm": {
     "name": "#%% md\n"
    }
   },
   "source": [
    "## Setup Jupyter Lab\n",
    "\n",
    "Let us setup Jupyter Lab on Ubuntu VM. This is primarily to understand firewall configuration in GCP.\n",
    "* Install required dependencies for Jupyter Lab.\n",
    "* Launch Jupyter Lab\n",
    "* At this time, you will not be able to access Jupyter Lab\n",
    "* Go to firewall and open the port using GCP Web Console\n",
    "* Now enter the ip address and port number to access the Jupyter Lab UI.\n"
   ]
  }
 ],
 "metadata": {
  "kernelspec": {
   "display_name": "Python 3",
   "language": "python",
   "name": "python3"
  },
  "language_info": {
   "codemirror_mode": {
    "name": "ipython",
    "version": 3
   },
   "file_extension": ".py",
   "mimetype": "text/x-python",
   "name": "python",
   "nbconvert_exporter": "python",
   "pygments_lexer": "ipython3",
   "version": "3.8.5"
  }
 },
 "nbformat": 4,
 "nbformat_minor": 4
}
