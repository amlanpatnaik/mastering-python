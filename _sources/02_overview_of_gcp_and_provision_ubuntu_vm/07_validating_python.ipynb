{
 "cells": [
  {
   "cell_type": "markdown",
   "metadata": {},
   "source": [
    "## Validating Python\n",
    "\n",
    "Let us validate Python on Ubuntu VM that is provisioned.\n",
    "* By default, Ubuntu 18.04 VM will have Python3 installed. You can run `python3` and launch Python CLI.\n",
    "* However, there might not be additional important modules such as pip, venv etc.\n",
    "* We need to validate and ensure that they are installed."
   ]
  }
 ],
 "metadata": {
  "kernelspec": {
   "display_name": "Python 3",
   "language": "python",
   "name": "python3"
  },
  "language_info": {
   "codemirror_mode": {
    "name": "ipython",
    "version": 3
   },
   "file_extension": ".py",
   "mimetype": "text/x-python",
   "name": "python",
   "nbconvert_exporter": "python",
   "pygments_lexer": "ipython3",
   "version": "3.8.5"
  }
 },
 "nbformat": 4,
 "nbformat_minor": 4
}
