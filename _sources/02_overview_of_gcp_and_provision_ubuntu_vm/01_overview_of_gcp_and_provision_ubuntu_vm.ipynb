{
 "cells": [
  {
   "cell_type": "markdown",
   "metadata": {},
   "source": [
    "# Overview of GCP and Provision Ubuntu VM \n",
    "\n",
    "* Signing up for GCP\n",
    "* Understanding GCP Web Console\n",
    "* Overview of GCP Pricing\n",
    "* Provision Ubuntu 18.04 Virtual Machine\n",
    "* Setup Docker \n",
    "* Validating Python \n",
    "* Setup Jupyter Lab"
   ]
  }
 ],
 "metadata": {
  "kernelspec": {
   "display_name": "Python 3",
   "language": "python",
   "name": "python3"
  },
  "language_info": {
   "codemirror_mode": {
    "name": "ipython",
    "version": 3
   },
   "file_extension": ".py",
   "mimetype": "text/x-python",
   "name": "python",
   "nbconvert_exporter": "python",
   "pygments_lexer": "ipython3",
   "version": "3.8.5"
  }
 },
 "nbformat": 4,
 "nbformat_minor": 4
}
